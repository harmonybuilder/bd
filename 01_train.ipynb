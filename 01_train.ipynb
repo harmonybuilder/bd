{
  "nbformat": 4,
  "nbformat_minor": 0,
  "metadata": {
    "colab": {
      "name": "01_train.ipynb",
      "provenance": [],
      "authorship_tag": "ABX9TyPtAYL+sS4X5yP2mb1VZkDk",
      "include_colab_link": true
    },
    "kernelspec": {
      "name": "python3",
      "display_name": "Python 3"
    },
    "language_info": {
      "name": "python"
    }
  },
  "cells": [
    {
      "cell_type": "markdown",
      "metadata": {
        "id": "view-in-github",
        "colab_type": "text"
      },
      "source": [
        "<a href=\"https://colab.research.google.com/github/harmonybuilder/bd/blob/master/01_train.ipynb\" target=\"_parent\"><img src=\"https://colab.research.google.com/assets/colab-badge.svg\" alt=\"Open In Colab\"/></a>"
      ]
    },
    {
      "cell_type": "code",
      "execution_count": null,
      "metadata": {
        "colab": {
          "base_uri": "https://localhost:8080/"
        },
        "id": "7I9OKqznmEun",
        "outputId": "7e13f566-0314-4a2b-b784-1ec5715b1588"
      },
      "outputs": [
        {
          "output_type": "stream",
          "name": "stdout",
          "text": [
            "Drive already mounted at /content/drive; to attempt to forcibly remount, call drive.mount(\"/content/drive\", force_remount=True).\n",
            "/content/drive/MyDrive/bd\n"
          ]
        }
      ],
      "source": [
        "from google.colab import drive\n",
        "drive.mount('/content/drive')\n",
        "%cd '/content/drive/MyDrive/bd'\n",
        "!pip3 install -e . -q\n",
        "!pip3 install nbdev==1.2.9 -q\n"
      ]
    },
    {
      "cell_type": "code",
      "source": [
        "from bd.core import *\n",
        "hello()"
      ],
      "metadata": {
        "colab": {
          "base_uri": "https://localhost:8080/"
        },
        "id": "Z7c1lMh7mY8W",
        "outputId": "f5225a06-b971-4817-9bc4-752caed80724"
      },
      "execution_count": null,
      "outputs": [
        {
          "output_type": "stream",
          "name": "stdout",
          "text": [
            "hey\n"
          ]
        }
      ]
    },
    {
      "cell_type": "code",
      "source": [
        "!ls /content/drive/MyDrive/bd"
      ],
      "metadata": {
        "colab": {
          "base_uri": "https://localhost:8080/"
        },
        "id": "hhJB9lckAJRc",
        "outputId": "27f362fd-8f0d-4091-a6e2-369d4eae3ae8"
      },
      "execution_count": null,
      "outputs": [
        {
          "output_type": "stream",
          "name": "stdout",
          "text": [
            "00_core.ipynb  CONTRIBUTING.md\t   index.ipynb\tMANIFEST.in   setup.py\n",
            "bd\t       docker-compose.yml  LICENSE\tREADME.md\n",
            "bd.egg-info    docs\t\t   Makefile\tsettings.ini\n"
          ]
        }
      ]
    }
  ]
}